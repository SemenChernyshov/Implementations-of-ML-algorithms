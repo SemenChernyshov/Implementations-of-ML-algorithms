{
  "nbformat": 4,
  "nbformat_minor": 0,
  "metadata": {
    "colab": {
      "provenance": []
    },
    "kernelspec": {
      "name": "python3",
      "display_name": "Python 3"
    },
    "language_info": {
      "name": "python"
    }
  },
  "cells": [
    {
      "cell_type": "code",
      "execution_count": 2,
      "metadata": {
        "id": "eV3ne8rhxvs7"
      },
      "outputs": [],
      "source": [
        "import numpy as np\n",
        "from numpy.linalg import norm"
      ]
    },
    {
      "cell_type": "code",
      "source": [
        "def sigmoid(x):\n",
        "    return 1/(1 + np.e**(-x))\n",
        "\n",
        "def a_(x):\n",
        "    if x > 0.5: return 1\n",
        "    else: return 0\n",
        "\n",
        "class GDLogReg():\n",
        "    def __init__(self, max_iter=1000, eta=0.01):\n",
        "        self.max_iter = 1000\n",
        "        self.eta = 0.01\n",
        "\n",
        "\n",
        "    def _gradient_step(self, w: np.array, X: np.array, y: np.array) -> np.array:\n",
        "          return X.T @ (np.vectorize(sigmoid)(X@w) - y)\n",
        "\n",
        "\n",
        "    def _gradient_descending(self, w: np.array, X: np.array, y: np.array) -> np.array:\n",
        "          old_w = w\n",
        "          new_w = old_w - self.eta * self._gradient_step(old_w, X, y)\n",
        "          iteration = 0\n",
        "          while norm(old_w - new_w) >= 1/10**9 and iteration <= self.max_iter:\n",
        "              old_w = new_w\n",
        "              new_w = old_w - self.eta * self._gradient_step(old_w, X, y)\n",
        "              iteration += 1\n",
        "          return new_w\n",
        "\n",
        "    def fit(self, X: np.array, y: np.array) -> np.array:\n",
        "        X = np.concatenate((np.ones((X.shape[0], 1)), X), axis=1)\n",
        "        y = y.reshape(y.shape[0],1)\n",
        "        n, m = X.shape\n",
        "        self.w_ = np.zeros((m,1))\n",
        "        w = self._gradient_descending(self.w_, X, y)\n",
        "        self.w_ = w\n",
        "        return self\n",
        "\n",
        "    def predict(self, X: np.array) -> np.array:\n",
        "        X = np.concatenate((np.ones((X.shape[0], 1)), X), axis=1)\n",
        "        v_a = np.vectorize(a_)\n",
        "        return v_a(X @ self.w_).reshape(-1)\n",
        "\n",
        "    def predict_proba(self, X: np.array) -> np.array:\n",
        "        X = np.concatenate((np.ones((X.shape[0], 1)), X), axis=1)\n",
        "        v_sigmoid = np.vectorize(sigmoid)\n",
        "        prob1 = v_sigmoid(X @ self.w_)\n",
        "        prob0 = np.ones(prob1.shape) - prob1\n",
        "        return np.concatenate((prob0, prob1), axis = 1)"
      ],
      "metadata": {
        "id": "qANmKToLx2_M"
      },
      "execution_count": 3,
      "outputs": []
    }
  ]
}