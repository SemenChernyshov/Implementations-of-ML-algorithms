{
  "nbformat": 4,
  "nbformat_minor": 0,
  "metadata": {
    "colab": {
      "provenance": []
    },
    "kernelspec": {
      "name": "python3",
      "display_name": "Python 3"
    },
    "language_info": {
      "name": "python"
    }
  },
  "cells": [
    {
      "cell_type": "code",
      "execution_count": 1,
      "metadata": {
        "id": "5fywl8ykxAkt"
      },
      "outputs": [],
      "source": [
        "import numpy as np\n",
        "from numpy.linalg import norm\n",
        "\n"
      ]
    },
    {
      "cell_type": "code",
      "source": [
        "def gradient_step(w: np.array, X: np.array, y: np.array) -> np.array:\n",
        "    n = X.shape[0]\n",
        "    return 2/n * X.T @ (X @ w - y)\n",
        "\n",
        "class GDLinReg():\n",
        "    def __init__(self, max_iter=1000, eta=0.1):\n",
        "        self.max_iter = max_iter\n",
        "        self.eta = eta\n",
        "        self.coef_ = None #строка\n",
        "        self.w_ = None #столбец\n",
        "        return\n",
        "\n",
        "    def _gradient_descending(self, w, X, y):\n",
        "        old_w = w\n",
        "        new_w = old_w - self.eta * gradient_step(old_w, X, y)\n",
        "        iteration = 0\n",
        "        while norm(old_w - new_w) >= 1/10**9 and iteration <= self.max_iter:\n",
        "            old_w = new_w\n",
        "            new_w = old_w - self.eta * gradient_step(old_w, X, y)\n",
        "            iteration += 1\n",
        "        return new_w\n",
        "        '''w_prev = w\n",
        "        w_cur = w_prev - self.eta * gradient_step(w_prev, X, y)\n",
        "        while norm(w_prev - w_cur) >= 1 / 10**9 or it\n",
        "            w_cur , w_prev = w_cur - self.eta * gradient_step(w_cur, X, y), w_cur\n",
        "            if abs(norm(w_cur - w_prev)) < 10**(-9):\n",
        "                break\n",
        "        return w_cur'''\n",
        "\n",
        "    def fit(self, X, y):\n",
        "        X = np.concatenate([X, np.ones((X.shape[0], 1))], axis=1)\n",
        "        m = X.shape[1]\n",
        "        self.w_ = np.zeros(m).reshape(m, 1)\n",
        "        w = self._gradient_descending(self.w_, X, y.reshape((y.shape[0],1)))\n",
        "        self.w_ = w\n",
        "        self.coef_ = self.w_.reshape(-1)\n",
        "        return self\n",
        "\n",
        "    def predict(self, X):\n",
        "        X = np.concatenate([X, np.ones((X.shape[0], 1))], axis=1)\n",
        "        return (X @ self.w_).reshape(-1)"
      ],
      "metadata": {
        "id": "pvGLLQeNxCco"
      },
      "execution_count": 2,
      "outputs": []
    }
  ]
}