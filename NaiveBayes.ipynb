{
  "nbformat": 4,
  "nbformat_minor": 0,
  "metadata": {
    "colab": {
      "provenance": []
    },
    "kernelspec": {
      "name": "python3",
      "display_name": "Python 3"
    },
    "language_info": {
      "name": "python"
    }
  },
  "cells": [
    {
      "cell_type": "code",
      "execution_count": 2,
      "metadata": {
        "id": "RCR-ye91sVRz"
      },
      "outputs": [],
      "source": [
        "from collections import defaultdict\n",
        "from math import log\n",
        "import numpy as np"
      ]
    },
    {
      "cell_type": "code",
      "source": [
        "class MyNaiveBayes():\n",
        "    apriori = {}\n",
        "    posterior = defaultdict(lambda: 0)\n",
        "    def __init__(self, alpha=0.01):\n",
        "        self.alpha = alpha\n",
        "\n",
        "    def fit(self, X: np.ndarray, y: np.ndarray):\n",
        "        assert X.ndim == 2\n",
        "        assert y.ndim == 1\n",
        "        n = y.shape[0]\n",
        "        m = y[y == 0].shape[0]\n",
        "        self.apriori[0] = m / n\n",
        "        self.apriori[1] = (n - m)/n\n",
        "        for i in range(X.shape[1]):\n",
        "            for value in np.unique(X[:,i]):\n",
        "                for label in range(2):\n",
        "                    self.posterior[(label, i, value)] = sum((X[:,i] == value) & (y == label)) / self.apriori[label] / n\n",
        "        return self\n",
        "\n",
        "    def predict(self, X: np.ndarray):\n",
        "        assert X.ndim == 2\n",
        "        ans = []\n",
        "        for ob in X:\n",
        "            ans.append(np.argmax([sum([np.log(self.posterior[(label,j,ob[j])] + self.alpha) for j in range(len(ob))]) + np.log(self.apriori[label]) for label in range(2)]))\n",
        "        return np.array(ans)"
      ],
      "metadata": {
        "id": "QrUqRWyFsiAB"
      },
      "execution_count": 3,
      "outputs": []
    }
  ]
}